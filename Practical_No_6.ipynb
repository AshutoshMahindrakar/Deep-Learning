{
  "nbformat": 4,
  "nbformat_minor": 0,
  "metadata": {
    "colab": {
      "provenance": []
    },
    "kernelspec": {
      "name": "python3",
      "display_name": "Python 3"
    },
    "language_info": {
      "name": "python"
    }
  },
  "cells": [
    {
      "cell_type": "code",
      "execution_count": null,
      "metadata": {
        "colab": {
          "base_uri": "https://localhost:8080/"
        },
        "id": "N-YuyJu0B6ml",
        "outputId": "bd69d2ab-c8e4-4bd2-f161-f1c898639a40"
      },
      "outputs": [
        {
          "metadata": {
            "tags": null
          },
          "name": "stdout",
          "output_type": "stream",
          "text": [
            "Epoch 1/10\n"
          ]
        },
        {
          "metadata": {
            "tags": null
          },
          "name": "stderr",
          "output_type": "stream",
          "text": [
            "/usr/local/lib/python3.10/dist-packages/keras/src/layers/core/embedding.py:90: UserWarning: Argument `input_length` is deprecated. Just remove it.\n",
            "  warnings.warn(\n"
          ]
        },
        {
          "output_type": "stream",
          "name": "stdout",
          "text": [
            "\u001b[1m64/64\u001b[0m \u001b[32m━━━━━━━━━━━━━━━━━━━━\u001b[0m\u001b[37m\u001b[0m \u001b[1m31s\u001b[0m 430ms/step - accuracy: 0.3282 - loss: 3.1564 - val_accuracy: 0.3927 - val_loss: 2.3730\n",
            "Epoch 2/10\n",
            "\u001b[1m64/64\u001b[0m \u001b[32m━━━━━━━━━━━━━━━━━━━━\u001b[0m\u001b[37m\u001b[0m \u001b[1m38s\u001b[0m 392ms/step - accuracy: 0.4592 - loss: 2.1764 - val_accuracy: 0.5395 - val_loss: 1.8660\n",
            "Epoch 3/10\n",
            "\u001b[1m64/64\u001b[0m \u001b[32m━━━━━━━━━━━━━━━━━━━━\u001b[0m\u001b[37m\u001b[0m \u001b[1m42s\u001b[0m 415ms/step - accuracy: 0.5306 - loss: 1.8125 - val_accuracy: 0.5039 - val_loss: 1.9397\n",
            "Epoch 4/10\n",
            "\u001b[1m64/64\u001b[0m \u001b[32m━━━━━━━━━━━━━━━━━━━━\u001b[0m\u001b[37m\u001b[0m \u001b[1m41s\u001b[0m 412ms/step - accuracy: 0.5495 - loss: 1.7278 - val_accuracy: 0.5284 - val_loss: 1.8293\n",
            "Epoch 5/10\n",
            "\u001b[1m64/64\u001b[0m \u001b[32m━━━━━━━━━━━━━━━━━━━━\u001b[0m\u001b[37m\u001b[0m \u001b[1m41s\u001b[0m 411ms/step - accuracy: 0.5719 - loss: 1.6408 - val_accuracy: 0.5595 - val_loss: 1.7296\n",
            "Epoch 6/10\n",
            "\u001b[1m64/64\u001b[0m \u001b[32m━━━━━━━━━━━━━━━━━━━━\u001b[0m\u001b[37m\u001b[0m \u001b[1m40s\u001b[0m 400ms/step - accuracy: 0.6088 - loss: 1.5405 - val_accuracy: 0.5973 - val_loss: 1.6487\n",
            "Epoch 7/10\n",
            "\u001b[1m64/64\u001b[0m \u001b[32m━━━━━━━━━━━━━━━━━━━━\u001b[0m\u001b[37m\u001b[0m \u001b[1m41s\u001b[0m 405ms/step - accuracy: 0.6522 - loss: 1.4356 - val_accuracy: 0.6307 - val_loss: 1.5400\n",
            "Epoch 8/10\n",
            "\u001b[1m64/64\u001b[0m \u001b[32m━━━━━━━━━━━━━━━━━━━━\u001b[0m\u001b[37m\u001b[0m \u001b[1m40s\u001b[0m 393ms/step - accuracy: 0.6641 - loss: 1.3513 - val_accuracy: 0.6285 - val_loss: 1.5132\n",
            "Epoch 9/10\n",
            "\u001b[1m64/64\u001b[0m \u001b[32m━━━━━━━━━━━━━━━━━━━━\u001b[0m\u001b[37m\u001b[0m \u001b[1m41s\u001b[0m 406ms/step - accuracy: 0.7232 - loss: 1.1385 - val_accuracy: 0.6552 - val_loss: 1.4370\n",
            "Epoch 10/10\n",
            "\u001b[1m64/64\u001b[0m \u001b[32m━━━━━━━━━━━━━━━━━━━━\u001b[0m\u001b[37m\u001b[0m \u001b[1m41s\u001b[0m 406ms/step - accuracy: 0.7533 - loss: 0.9826 - val_accuracy: 0.6418 - val_loss: 1.4478\n",
            "\u001b[1m71/71\u001b[0m \u001b[32m━━━━━━━━━━━━━━━━━━━━\u001b[0m\u001b[37m\u001b[0m \u001b[1m3s\u001b[0m 34ms/step\n",
            "Test Accuracy: 0.6504897595725735\n",
            "              precision    recall  f1-score   support\n",
            "\n",
            "           0       0.14      0.08      0.11        12\n",
            "           1       0.64      0.64      0.64       105\n",
            "           2       0.00      0.00      0.00        20\n",
            "           3       0.86      0.95      0.91       813\n",
            "           4       0.83      0.78      0.80       474\n",
            "           5       0.00      0.00      0.00         5\n",
            "           6       0.75      0.21      0.33        14\n",
            "           7       0.00      0.00      0.00         3\n",
            "           8       0.18      0.08      0.11        38\n",
            "           9       0.19      0.32      0.24        25\n",
            "          10       0.26      0.37      0.30        30\n",
            "          11       0.37      0.55      0.44        83\n",
            "          12       0.00      0.00      0.00        13\n",
            "          13       0.67      0.05      0.10        37\n",
            "          14       0.00      0.00      0.00         2\n",
            "          15       0.00      0.00      0.00         9\n",
            "          16       0.38      0.72      0.50        99\n",
            "          17       0.00      0.00      0.00        12\n",
            "          18       0.19      0.30      0.23        20\n",
            "          19       0.55      0.38      0.45       133\n",
            "          20       0.19      0.56      0.28        70\n",
            "          21       0.00      0.00      0.00        27\n",
            "          22       0.00      0.00      0.00         7\n",
            "          23       0.00      0.00      0.00        12\n",
            "          24       0.14      0.11      0.12        19\n",
            "          25       0.24      0.13      0.17        31\n",
            "          26       0.00      0.00      0.00         8\n",
            "          27       0.00      0.00      0.00         4\n",
            "          28       0.00      0.00      0.00        10\n",
            "          29       0.00      0.00      0.00         4\n",
            "          30       0.00      0.00      0.00        12\n",
            "          31       0.00      0.00      0.00        13\n",
            "          32       0.00      0.00      0.00        10\n",
            "          33       0.00      0.00      0.00         5\n",
            "          34       0.00      0.00      0.00         7\n",
            "          35       0.00      0.00      0.00         6\n",
            "          36       0.00      0.00      0.00        11\n",
            "          37       0.00      0.00      0.00         2\n",
            "          38       0.00      0.00      0.00         3\n",
            "          39       0.00      0.00      0.00         5\n",
            "          40       0.00      0.00      0.00        10\n",
            "          41       0.00      0.00      0.00         8\n",
            "          42       0.00      0.00      0.00         3\n",
            "          43       0.00      0.00      0.00         6\n",
            "          44       1.00      0.80      0.89         5\n",
            "          45       0.00      0.00      0.00         1\n",
            "\n",
            "    accuracy                           0.65      2246\n",
            "   macro avg       0.16      0.15      0.14      2246\n",
            "weighted avg       0.62      0.65      0.62      2246\n",
            "\n",
            "Sample Classification Output:\n",
            "Sample 1:\n",
            "Text: ? ? ? ? ? ? ? ? ? ? ? ? ? ? ? ? ? ? ? ? ? ? ? ? ? ? ? ? ? ? ? ? ? ? ? ? ? ? ? ? ? ? ? ? ? ? ? ? ? ? ? ? ? ? ? ? ? ? ? ? ? ? ? ? ? ? ? ? ? ? ? ? ? ? ? ? ? ? ? ? ? ? ? ? ? ? ? ? ? ? ? ? ? ? ? ? ? ? ? ? ? ? ? ? ? ? ? ? ? ? ? ? ? ? ? ? ? ? ? ? ? finland's medical group ? oy lt ? he said it has acquired electronics components importers and ? lt ? oy and lt ? oy subsidiaries of finland's electronics group ? oy lt ? he it said in a statement ? and ? will be merged into ? professional electronics and information systems division it did not disclose a price for the acquisitions but said it had issued 30 000 restricted b shares as partial payment to ? reuter 3\n",
            "Actual Label: 4\n",
            "Predicted Label: 4\n",
            "\n",
            "Sample 2:\n",
            "Text: ? ? ? ? ? ? ? ? ? ? ? ? ? ? ? ? ? ? ? ? ? ? ? ? ? ? ? ? ? ? ? ? ? ? ? ? ? ? ? ? ? ? ? ? ? ? ? ? ? ? ? ? ? ? ? ? ? ? ? ? the u s agriculture department's national agricultural statistics services ? said it will change its citrus estimate program for california and arizona starting in 1988 ? said it will discontinue california forecasts for ? during december february march may and june and for ? and ? for those months plus november forecasts for ? will be issued in october november january april and july and for ? in october january april and july and for ? in october january and april there will be no change in the estimating program for california oranges arizona forecasts will be dropped for ? oranges ? and ? in november december february march may and june with forecasts retained in october january april and july it said there will be no changes in the estimating program for citrus in texas or florida reuter 3\n",
            "Actual Label: 38\n",
            "Predicted Label: 10\n",
            "\n",
            "Sample 3:\n",
            "Text: ? ? ? ? ? ? ? ? ? ? ? ? ? ? ? ? ? ? ? ? ? ? ? ? ? ? ? ? ? ? ? ? ? ? ? ? ? ? ? ? ? ? ? ? ? ? ? ? ? ? ? ? ? ? ? ? ? ? ? ? ? ? ? ? ? ? ? ? ? ? ? ? ? ? ? ? ? ? ? ? ? ? ? ? ? ? ? ? ? ? ? ? ? ? ? ? ? ? ? ? ? ? ? ? ? ? ? ? ? ? ? ? ? ? ? ? ? ? ? ? ? ? ? ? ? ? ? ? ? ? ? shr 55 cts vs 93 cts net 1 6 mln vs 2 6 mln revs 5 3 mln vs 1 2 mln year shr 73 cts vs 1 36 dlrs net 2 0 mln vs 3 0 mln revs 9 1 mln vs 11 0 mln note 1985 net includes 2 7 mln dlrs gain on disposal of unit 1986 includes operations of ? insurance ? inc reuter 3\n",
            "Actual Label: 3\n",
            "Predicted Label: 3\n",
            "\n",
            "Sample 4:\n",
            "Text: ? ? ? ? ? ? ? ? ? ? ? ? ? ? ? ? ? ? ? ? ? ? ? ? ? ? ? ? ? ? ? ? ? ? ? ? ? ? ? ? ? ? ? ? ? ? ? ? ? ? ? ? ? ? ? ? ? ? ? ? ? ? ? ? ? ? ? ? ? ? ? ? ? ? ? ? ? ? ? ? ? ? ? ? ? ? ? ? ? ? ? ? ? ? ? ? ? ? ? ? ? ? ? ? ? ? ? ? ? ? ? ? ? ? ? ? ? ? ? ? ? ? ? ? ? ? ? ? ? ? ? ? ? ? ? ? ? ? ? ? ? ? ? ? ? ? ? ? ? ? ? ? ? ? ? bankers trust co said it is raising its broker loan rate to 7 1 2 pct from 7 1 4 pct effective immediately u s trust co the only other bank to ? its broker rate was already posting 7 1 2 pct reuter 3\n",
            "Actual Label: 20\n",
            "Predicted Label: 20\n",
            "\n",
            "Sample 5:\n",
            "Text: ? ? ? ? ? ? ? ? ? ? ? ? ? ? ? ? ? ? ? ? ? ? ? ? ? ? ? ? ? ? ? ? ? ? ? ? ? ? ? ? ? ? ? ? ? ? ? ? ? ? ? ? ? ? ? ? ? ? ? ? ? ? ? ? ? ? ? ? ? ? ? ? ? ? ? ? ? ? ? ? ? ? ? ? ? ? ? ? ? ? ? ? ? ? ? ? ? ? ? ? ? ? ? ? ? ? ? ? ? ? ? ? ? ? ? ? ? ? ? ? ? ? ? ? ? ? ? ? ? ? ? ? ? ? london based trader cargill u k ltd confirmed it sold one cargo of white sugar to india for shipment april 15 may 15 at yesterday's tender price details were not immediately available but some traders suggested business had been done around 220 dlrs a tonne cif india tendered for one or two cargoes of white sugar there was no specific requirement on shipping period reuter 3\n",
            "Actual Label: 10\n",
            "Predicted Label: 3\n",
            "\n",
            "Sample 6:\n",
            "Text: ? ? ? ? ? ? ? ? ? ? ? ? ? ? ? ? ? ? ? ? ? ? ? ? ? ? ? ? ? ? ? ? ? ? ? ? ? ? ? ? ? ? ? ? ? ? ? ? ? ? ? ? ? ? ? ? ? ? ? ? ? ? ? ? ? ? ? ? ? ? ? ? ? ? ? ? ? ? ? ? ? ? ? ? a marketing loan for u s wheat feedgrains and soybeans would do nothing to help the surplus production situation and would be extremely costly sen ? boschwitz r minn said i think i would not support a marketing loan now he told the house agriculture subcommittee on wheat soybeans and feedgrains boschwitz was one of the original supporters of a marketing loan for cotton and rice but has since focused support on decoupling legislation the ? ? bill a market loan for grains and soybeans would encourage more production especially in high yielding areas would be much more expensive than the current cotton and rice marketing loans and not increase exports significantly he said reuter 3\n",
            "Actual Label: 1\n",
            "Predicted Label: 1\n",
            "\n",
            "Sample 7:\n",
            "Text: subsidiary in canada british petroleum plc lt bp and royal dutch shell group lt rd have also been mentioned as possible ? for dome in the past two days dome management has been pressured by the federal government to select the offer from transcanada the only canadian company in the bidding prime minister brian ? government appears to want to avoid a dome sale to a foreign company since the government gave dome hundreds of millions of dollars in tax breaks to encourage oil and gas exploration in the arctic analysts and officials have said a purchase by transcanada would be least likely to run ? of canadian antitrust laws however transcanada is asking for tax concessions from a federal government that is trying to hold its deficit below 30 billion canadian dlrs analysts have said a takeover by amoco or imperial would also give a foreign oil company a dominant position in canada's oil industry imperial oil is already canada's largest energy company with 1986 revenues of 7 1 billion canadian dlrs chicago based amoco had 1986 revenues of 20 23 billion u s dlrs its amoco canada petroleum subsidiary is 100 pct owned by amoco corp reuter 3\n",
            "Actual Label: 4\n",
            "Predicted Label: 3\n",
            "\n",
            "Sample 8:\n"
          ]
        },
        {
          "output_type": "stream",
          "name": "stderr",
          "text": [
            "/usr/local/lib/python3.10/dist-packages/sklearn/metrics/_classification.py:1531: UndefinedMetricWarning: Precision is ill-defined and being set to 0.0 in labels with no predicted samples. Use `zero_division` parameter to control this behavior.\n",
            "  _warn_prf(average, modifier, f\"{metric.capitalize()} is\", len(result))\n",
            "/usr/local/lib/python3.10/dist-packages/sklearn/metrics/_classification.py:1531: UndefinedMetricWarning: Precision is ill-defined and being set to 0.0 in labels with no predicted samples. Use `zero_division` parameter to control this behavior.\n",
            "  _warn_prf(average, modifier, f\"{metric.capitalize()} is\", len(result))\n",
            "/usr/local/lib/python3.10/dist-packages/sklearn/metrics/_classification.py:1531: UndefinedMetricWarning: Precision is ill-defined and being set to 0.0 in labels with no predicted samples. Use `zero_division` parameter to control this behavior.\n",
            "  _warn_prf(average, modifier, f\"{metric.capitalize()} is\", len(result))\n"
          ]
        },
        {
          "output_type": "stream",
          "name": "stdout",
          "text": [
            "Text: ? ? ? ? ? ? ? ? ? ? ? ? ? ? ? ? ? ? ? ? ? ? ? ? ? ? ? ? ? ? ? ? ? ? ? ? ? ? ? ? ? ? ? ? ? ? ? ? ? ? ? ? ? ? ? ? ? ? ? ? ? ? ? ? ? ? ? ? ? ? ? ? ? ? ? ? ? ? ? ? ? ? navistar international corp's stock rose after brokerage house sanford c ? and co raised its earnings estimate of the company based on expectations of better truck orders and truck tonnage traders said navistar led the active list with a gain of 1 4 to 7 1 4 on volume of 4 2 mln shares traders familiar with the opinion said that david ? director of sanford c ? and co's institutional strategy committee raised his earnings estimates to 80 cts a share for the current fiscal year ending in october he expects navistar to earn 1 20 dlrs a share next year in 1986 the company lost 14 cts a share ? was unavailable for comment reuter 3\n",
            "Actual Label: 3\n",
            "Predicted Label: 3\n",
            "\n",
            "Sample 9:\n",
            "Text: ? ? ? ? ? ? ? ? ? ? ? ? ? ? ? ? ? ? ? ? ? ? ? ? ? ? ? ? ? ? ? ? ? ? ? ? ? ? ? ? ? ? ? ? ? ? ? ? ? ? ? ? ? ? ? ? ? ? ? ? ? ? ? ? ? ? ? ? ? ? ? ? ? ? ? ? ? ? ? ? ? ? ? ? ? ? ? ? ? ? ? ? ? ? ? ? ? ? ? ? ? ? ? ? ? ? ? ? ? ? ? ? ? ? ? ? ? ? ? ? ? ? ? ? ? ? ? ? ? ? ? ? ? ? ? ? ? ? ? ? ? ? ? ? ? ? ? tunisia has decided to break diplomatic relations with iran the foreign ministry said a communique published by the official tap news agency said the iranian embassy in ? had been engaged in activities liable to ? public order these included acts aimed at sowing ? confusion and ? the communique said reuter 3\n",
            "Actual Label: 19\n",
            "Predicted Label: 16\n",
            "\n",
            "Sample 10:\n",
            "Text: ? ? ? ? ? ? ? ? ? ? ? ? ? ? ? ? ? ? ? ? ? ? ? ? ? ? ? ? ? ? ? ? ? ? ? ? ? ? ? ? ? ? ? ? ? ? ? ? ? ? ? ? ? ? ? ? ? ? ? ? ? ? ? ? ? ? ? ? ? ? ? ? ? ? ? ? ? ? ? ? ? ? ? ? ? ? ? ? ? ? ? ? ? ? ? ? ? ? ? ? ? ? ? ? ? ? ? ? ? ? ? ? ? ? ? ? ? ? ? ? ? ? ? ? ? ? ? ? ? ? ? ? ? ? ? ? ? ? ? ? ? ? ? ? ? ? ? ? ? ? ? ? ? ? ? ? ? ? ? ? ? ? ? ? ? ? ? ? ? ? ? ? ? ? ? qtr ended dec 31 shr profit nil vs loss nil net profit 858 vs loss 3 957 revs 7 372 vs 1 500 reuter 3\n",
            "Actual Label: 3\n",
            "Predicted Label: 3\n",
            "\n"
          ]
        }
      ],
      "source": [
        "#prac 6\n",
        "import numpy as np\n",
        "import tensorflow as tf\n",
        "from tensorflow.keras.datasets import reuters\n",
        "from tensorflow.keras.preprocessing.sequence import pad_sequences\n",
        "from tensorflow.keras.models import Sequential\n",
        "from tensorflow.keras.layers import Dense, Embedding, LSTM\n",
        "from sklearn.metrics import accuracy_score, classification_report\n",
        "\n",
        "# Load the Reuters dataset\n",
        "num_words = 10000 # Consider only the top 10,000 most frequent words\n",
        "(X_train,y_train),(X_test,y_test)=reuters.load_data(num_words=num_words)\n",
        "# Preprocess the data\n",
        "max_len = 200 # Maximum sequence length\n",
        "X_train = pad_sequences(X_train, maxlen=max_len)\n",
        "X_test = pad_sequences(X_test, maxlen=max_len)\n",
        "# Define the neural network architecture\n",
        "model = Sequential([\n",
        "Embedding(input_dim=num_words,output_dim=128, input_length=max_len),\n",
        "LSTM(units=64),\n",
        "Dense(units=46, activation='softmax') # Output layer with 46 units for 46 classes\n",
        "])\n",
        "# Compile the model\n",
        "model.compile(optimizer='adam', loss='sparse_categorical_crossentropy',metrics=['accuracy'])\n",
        "# Train the model\n",
        "history = model.fit(X_train, y_train, epochs=10, batch_size=128,validation_split=0.1)\n",
        "# Evaluate the model\n",
        "y_pred = np.argmax(model.predict(X_test), axis=1)\n",
        "accuracy = accuracy_score(y_test, y_pred)\n",
        "print(\"Test Accuracy:\", accuracy)\n",
        "print(classification_report(y_test, y_pred))\n",
        "# Select random samples from the test dataset\n",
        "num_samples = 10\n",
        "test_size = len(X_test)\n",
        "random_indices = np.random.choice(test_size, num_samples, replace=False)\n",
        "# Define a function to decode the integer sequences back into words\n",
        "def decode_sequence(sequence):\n",
        "  word_index = reuters.get_word_index()\n",
        "  reverse_word_index = dict([(value, key) for (key, value) in\n",
        "  word_index.items()])\n",
        "  return ' '.join([reverse_word_index.get(i - 3, '?') for i in sequence])\n",
        "# Print sample classification output\n",
        "print(\"Sample Classification Output:\")\n",
        "for i in range(num_samples):\n",
        "    print(f\"Sample {i+1}:\")\n",
        "    print(\"Text:\", decode_sequence(X_test[random_indices[i]]))\n",
        "    print(\"Actual Label:\", y_test[random_indices[i]])\n",
        "    print(\"Predicted Label:\", y_pred[random_indices[i]])\n",
        "    print() # Add empty line for separation\n"
      ]
    },
    {
      "cell_type": "markdown",
      "source": [],
      "metadata": {
        "id": "GSOJRmLIFcCh"
      }
    }
  ]
}
