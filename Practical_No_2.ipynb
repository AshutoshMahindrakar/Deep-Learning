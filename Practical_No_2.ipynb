{
  "nbformat": 4,
  "nbformat_minor": 0,
  "metadata": {
    "colab": {
      "provenance": []
    },
    "kernelspec": {
      "name": "python3",
      "display_name": "Python 3"
    },
    "language_info": {
      "name": "python"
    }
  },
  "cells": [
    {
      "cell_type": "code",
      "execution_count": null,
      "metadata": {
        "colab": {
          "base_uri": "https://localhost:8080/"
        },
        "id": "jP1_YF7O9RtH",
        "outputId": "472bd27a-b9c7-4db5-c636-7f69689ab4c5"
      },
      "outputs": [
        {
          "output_type": "stream",
          "name": "stdout",
          "text": [
            "Mean Squared Error Loss: 0.016450930359532285\n",
            "Binary Cross-Entropy Loss: 16.23360071640021\n",
            "Categorical Cross-Entropy Loss: 0.08131051386782367\n"
          ]
        }
      ],
      "source": [
        "# Practical No 2\n",
        "import numpy as np\n",
        "\n",
        "# Generate synthetic dataset\n",
        "np.random.seed(0)\n",
        "X = np.random.rand(100, 1)  # 100 samples, 1 feature\n",
        "y_true = 2 * X.squeeze() + 1 + np.random.randn(100) * 0.1  # True relationship with noise\n",
        "\n",
        "# Let's say we have some predicted values\n",
        "y_pred = 2 * X.squeeze() + 1.1\n",
        "\n",
        "# Implement the loss functions\n",
        "def mean_squared_error(y_true, y_pred):\n",
        "    return np.mean((y_true - y_pred) ** 2)\n",
        "\n",
        "def binary_cross_entropy(y_true, y_pred):\n",
        "    epsilon = 1e-15\n",
        "    y_pred = np.clip(y_pred, epsilon, 1 - epsilon)\n",
        "    return -np.mean(y_true * np.log(y_pred) + (1 - y_true) * np.log(1 - y_pred))\n",
        "\n",
        "def categorical_cross_entropy(y_true, y_pred):\n",
        "    epsilon = 1e-15\n",
        "    y_pred = np.clip(y_pred, epsilon, 1 - epsilon)\n",
        "    return -np.mean(y_true * np.log(y_pred))\n",
        "\n",
        "# Compute losses\n",
        "mse_loss = mean_squared_error(y_true, y_pred)\n",
        "bce_loss = binary_cross_entropy((y_true > np.mean(y_true)).astype(int), y_pred)  # Binary classification example\n",
        "cce_loss = categorical_cross_entropy(np.eye(10)[np.random.randint(10, size=100)], np.random.rand(100, 10))  # Categorical classification example\n",
        "\n",
        "# Print computed losses\n",
        "print(\"Mean Squared Error Loss:\", mse_loss)\n",
        "print(\"Binary Cross-Entropy Loss:\", bce_loss)\n",
        "print(\"Categorical Cross-Entropy Loss:\", cce_loss)"
      ]
    }
  ]
}